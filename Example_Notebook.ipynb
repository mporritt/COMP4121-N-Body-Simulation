{
 "cells": [
  {
   "cell_type": "code",
   "execution_count": null,
   "metadata": {},
   "outputs": [],
   "source": [
    "from NBodySimulator import NBodySimulator\n",
    "from SummationMethods import DirectSummation\n",
    "from IntegrationMethods import EulerIntegration"
   ]
  },
  {
   "cell_type": "code",
   "execution_count": null,
   "metadata": {},
   "outputs": [],
   "source": [
    "DS_EI = NBodySimulator( DirectSummation, EulerIntegration )"
   ]
  },
  {
   "cell_type": "code",
   "execution_count": null,
   "metadata": {},
   "outputs": [],
   "source": [
    "masses = [1, 1, 1]\n",
    "radius = [0.05, 0.05, 0.05]\n",
    "p_i = [\n",
    "       [-1, 0, 0], \n",
    "       [ 0, 0, 0], \n",
    "       [ 1, 0, 0]\n",
    "      ]\n",
    "v_i = [\n",
    "       [ 0,-1, 0],\n",
    "       [ 0, 1, 0],\n",
    "       [ 0, 0, 1]\n",
    "      ]\n",
    "\n",
    "positions = DS_EI.run(masses, p_i, velocity=v_i, time_max=50, dt=0.01, G=1)"
   ]
  },
  {
   "cell_type": "code",
   "execution_count": null,
   "metadata": {},
   "outputs": [],
   "source": [
    "NBodySimulator.animate(positions, radius=radius, time=50)"
   ]
  },
  {
   "cell_type": "code",
   "execution_count": null,
   "metadata": {},
   "outputs": [],
   "source": []
  }
 ],
 "metadata": {
  "kernelspec": {
   "display_name": "Python 3",
   "language": "python",
   "name": "python3"
  },
  "language_info": {
   "codemirror_mode": {
    "name": "ipython",
    "version": 3
   },
   "file_extension": ".py",
   "mimetype": "text/x-python",
   "name": "python",
   "nbconvert_exporter": "python",
   "pygments_lexer": "ipython3",
   "version": "3.8.5"
  }
 },
 "nbformat": 4,
 "nbformat_minor": 4
}
